{
 "cells": [
  {
   "cell_type": "markdown",
   "metadata": {},
   "source": [
    "# Py-6"
   ]
  },
  {
   "cell_type": "markdown",
   "metadata": {},
   "source": [
    "## Exercise: Simple Dice Game"
   ]
  },
  {
   "cell_type": "markdown",
   "metadata": {},
   "source": [
    "### Objective"
   ]
  },
  {
   "cell_type": "markdown",
   "metadata": {},
   "source": [
    "###### Create a simple dice game using Python.\n",
    "###### This exercise will help students understand classes,\n",
    "###### inheritance, and functions."
   ]
  },
  {
   "cell_type": "markdown",
   "metadata": {},
   "source": [
    "##### Instructions"
   ]
  },
  {
   "cell_type": "markdown",
   "metadata": {},
   "source": [
    "###### 1. Import the necessary library"
   ]
  },
  {
   "cell_type": "code",
   "execution_count": 1,
   "metadata": {},
   "outputs": [],
   "source": [
    "import random"
   ]
  },
  {
   "cell_type": "markdown",
   "metadata": {},
   "source": [
    "###### 1. Create a Base Class Player:"
   ]
  },
  {
   "cell_type": "code",
   "execution_count": 2,
   "metadata": {},
   "outputs": [],
   "source": [
    "class Player:\n",
    "    \"\"\"Constructor to initialize the name and score.\"\"\"\n",
    "    def __init__(self, name):\n",
    "        self.name = name \n",
    "        self.score = [] \n",
    "        self.wins = 0 \n",
    "    \n",
    "    \"\"\" - Method to simulate rolling a dice \n",
    "        - (random number between 1 and 6)\n",
    "        - and update the score.\n",
    "    \"\"\"\n",
    "    def roll_dice(self):\n",
    "        return random.randint(1, 6) \n",
    "\n",
    "    \"\"\"Method to return the player's current score.\"\"\"\n",
    "    def  get_score(self, score):\n",
    "        self.score.append(score)"
   ]
  },
  {
   "cell_type": "markdown",
   "metadata": {},
   "source": [
    "###### 2. Create a Subclass ComputerPlayer that Inherits from Player:"
   ]
  },
  {
   "cell_type": "code",
   "execution_count": 3,
   "metadata": {},
   "outputs": [],
   "source": [
    "# Definition of ComputerPlayer subclass:\n",
    "class ComputerPlayer(Player):\n",
    "    def __init__(self):\n",
    "        super().__init__('Computer')"
   ]
  },
  {
   "cell_type": "markdown",
   "metadata": {},
   "source": [
    "###### 3. Create a Game Class:"
   ]
  },
  {
   "cell_type": "code",
   "execution_count": 4,
   "metadata": {},
   "outputs": [],
   "source": [
    "class Game:\n",
    "    \"\"\" - Initializes the game with a player,\n",
    "        - a computer, and the number of rounds.\n",
    "    \"\"\"\n",
    "    #Constructor to initialize the player and computer player\n",
    "    def __init__(self, player, computer, rounds=1):\n",
    "        self.player = player\n",
    "        self.computer = computer\n",
    "        self.rounds = rounds\n",
    "    \n",
    "    \"\"\" - Simulates a round of the game\n",
    "        - where both the player and the computer roll dice,\n",
    "        - their scores are updated,\n",
    "        - and the round winner is determined.\n",
    "    \"\"\"\n",
    "    # Method to play a round \n",
    "    # where both the player and the computer\n",
    "    # roll the dice\n",
    "    def play_round(self):\n",
    "        player_score = self.player.roll_dice()\n",
    "        computer_score = self.computer.roll_dice()\n",
    "        self.player.get_score(player_score)\n",
    "        self.computer.get_score(computer_score)\n",
    "\n",
    "\n",
    "        if player_score > computer_score:\n",
    "            self.player.wins += 1\n",
    "            print(f\"{self.player.name} wins this round with {player_score} vs {computer_score}\")\n",
    "        elif player_score < computer_score:\n",
    "            self.computer.wins += 1\n",
    "            print(f\"{self.computer.name} wins this round with {computer_score} vs {player_score}\")\n",
    "        else:\n",
    "            print(\"This round is a tie.\")\n",
    "\n",
    "    \"\"\" - Loops through the specified number of rounds, \n",
    "        - playing each round.\n",
    "    \"\"\"\n",
    "    def play_game(self):\n",
    "        for _ in range(self.rounds):\n",
    "            self.play_round()\n",
    "\n",
    "    ## Method to determine the winner based on the scores \n",
    "    #### In one round\n",
    "    \"\"\"Prints the current scores of the player and the computer.\"\"\"\n",
    "    def print_scores(self):\n",
    "        print(f\"{self.player.name} scores: {self.player.score}\")\n",
    "        print(f\"{self.computer.name} scores: {self.computer.score}\")\n",
    "\n",
    "    \"\"\" -Prints the final results,\n",
    "        - including the total number of wins for both the player and the computer,\n",
    "        - and declares the overall winner.\n",
    "    \"\"\"\n",
    "    \n",
    "    #### In all rounds\n",
    "    def print_final_result(self):\n",
    "        print(f\"Total wins of {self.player.name}: {self.player.wins}\")\n",
    "        print(f\"Total wins of {self.computer.name}: {self.computer.wins}\")\n",
    "\n",
    "        if self.player.wins > self.computer.wins:\n",
    "            print(f\"{self.player.name} wins the game!\")\n",
    "        elif self.player.wins < self.computer.wins:\n",
    "            print(f\"{self.computer.name} wins the game!\")\n",
    "        else:\n",
    "            print(\"The game is a tie!\")"
   ]
  },
  {
   "cell_type": "markdown",
   "metadata": {},
   "source": [
    "###### 5. How to play the game"
   ]
  },
  {
   "cell_type": "code",
   "execution_count": 5,
   "metadata": {},
   "outputs": [
    {
     "name": "stdout",
     "output_type": "stream",
     "text": [
      "This round is a tie.\n",
      "Tamer wins this round with 5 vs 3\n",
      "Tamer wins this round with 4 vs 2\n",
      "Computer wins this round with 5 vs 4\n",
      "Tamer wins this round with 6 vs 2\n",
      "This round is a tie.\n",
      "Computer wins this round with 5 vs 2\n",
      "Tamer scores: [3, 5, 4, 4, 6, 3, 2]\n",
      "Computer scores: [3, 3, 2, 5, 2, 3, 5]\n",
      "Total wins of Tamer: 3\n",
      "Total wins of Computer: 2\n",
      "Tamer wins the game!\n"
     ]
    }
   ],
   "source": [
    "# part One\n",
    "player = Player(name=input('Enter Your Name'))\n",
    "computer = ComputerPlayer()\n",
    "\n",
    "# The second part\n",
    "game = Game(player, computer, rounds=int(input(\"Enter the number of rounds\")))\n",
    "game.play_game()\n",
    "game.print_scores()\n",
    "game.print_final_result()"
   ]
  }
 ],
 "metadata": {
  "kernelspec": {
   "display_name": "env",
   "language": "python",
   "name": "python3"
  },
  "language_info": {
   "codemirror_mode": {
    "name": "ipython",
    "version": 3
   },
   "file_extension": ".py",
   "mimetype": "text/x-python",
   "name": "python",
   "nbconvert_exporter": "python",
   "pygments_lexer": "ipython3",
   "version": "3.12.4"
  }
 },
 "nbformat": 4,
 "nbformat_minor": 2
}
