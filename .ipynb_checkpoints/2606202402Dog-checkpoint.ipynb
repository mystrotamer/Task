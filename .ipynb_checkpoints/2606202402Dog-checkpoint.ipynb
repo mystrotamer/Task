{
 "cells": [
  {
   "cell_type": "code",
   "execution_count": null,
   "metadata": {},
   "outputs": [],
   "source": [
    "class Dog():\n",
    "# Define the Class   \n",
    "    def namedDog(self,\n",
    "                 name ,\n",
    "                 age):\n",
    "        self.name = name\n",
    "        self.age = age\n",
    "\n",
    "\n",
    "# Constructor Method    \n",
    "    def __init__(self):\n",
    "        pass\n",
    "\n",
    "\n",
    "# Methods..\n",
    "# M1        \n",
    "    def sit(self):\n",
    "        pass\n",
    "# M2    \n",
    "    def roll_over(self):\n",
    "        pass\n",
    "\n",
    "# call"
   ]
  }
 ],
 "metadata": {
  "kernelspec": {
   "display_name": "env",
   "language": "python",
   "name": "python3"
  },
  "language_info": {
   "name": "python",
   "version": "3.12.3"
  }
 },
 "nbformat": 4,
 "nbformat_minor": 2
}
