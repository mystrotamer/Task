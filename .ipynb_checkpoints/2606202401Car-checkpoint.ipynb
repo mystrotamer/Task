{
 "cells": [
  {
   "cell_type": "code",
   "execution_count": null,
   "metadata": {},
   "outputs": [],
   "source": [
    "class Car():\n",
    "# Define the Class   \n",
    "    def namedCar(self,\n",
    "                 name ,\n",
    "                 make,\n",
    "                 model,\n",
    "                 year,):\n",
    "        self.name = name\n",
    "        self.make = make\n",
    "        self.model = model\n",
    "        self.year = year\n",
    "\n",
    "# Constructor Method    \n",
    "    def __init__(self, odometer_reading=0):\n",
    "        self.odometer_reading = odometer_reading\n",
    "\n",
    "# Methods..\n",
    "# M1        \n",
    "    def get_description(self):\n",
    "        pass\n",
    "# M2    \n",
    "    def read_odometer(self):\n",
    "        pass\n",
    "# M3    \n",
    "    def increment_odomerter(self):\n",
    "        pass\n",
    "\n",
    "# call"
   ]
  }
 ],
 "metadata": {
  "kernelspec": {
   "display_name": "env",
   "language": "python",
   "name": "python3"
  },
  "language_info": {
   "name": "python",
   "version": "3.12.3"
  }
 },
 "nbformat": 4,
 "nbformat_minor": 2
}
