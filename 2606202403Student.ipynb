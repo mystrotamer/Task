{
 "cells": [
  {
   "cell_type": "code",
   "execution_count": 4,
   "metadata": {},
   "outputs": [],
   "source": [
    "class Student():\n",
    "    name = input(' Enter You Name :')\n",
    "    courses = input(' Enter a courses')\n",
    "\n",
    "# Constructor Method    \n",
    "    def __init__(self,\n",
    "                 name,\n",
    "                 courses\n",
    "                 ):\n",
    "        self.name = name\n",
    "        self.couesres = courses\n",
    "\n",
    "# Methods..\n",
    "# M1        \n",
    "    def enroll(self):\n",
    "        pass\n",
    "# M2    \n",
    "    def get_courses(self):\n",
    "        pass\n",
    "\n",
    "\n",
    "# call\n",
    "\n"
   ]
  }
 ],
 "metadata": {
  "kernelspec": {
   "display_name": "Python 3 (ipykernel)",
   "language": "python",
   "name": "python3"
  },
  "language_info": {
   "codemirror_mode": {
    "name": "ipython",
    "version": 3
   },
   "file_extension": ".py",
   "mimetype": "text/x-python",
   "name": "python",
   "nbconvert_exporter": "python",
   "pygments_lexer": "ipython3",
   "version": "3.12.3"
  }
 },
 "nbformat": 4,
 "nbformat_minor": 4
}
