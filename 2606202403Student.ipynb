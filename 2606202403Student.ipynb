{
 "cells": [
  {
   "cell_type": "markdown",
   "metadata": {},
   "source": [
    "## Py-4"
   ]
  },
  {
   "cell_type": "markdown",
   "metadata": {},
   "source": [
    "# Task3: Create a Student Class"
   ]
  },
  {
   "cell_type": "markdown",
   "metadata": {},
   "source": [
    "#### ○ Create a class named Student.\n",
    "#### ○ The class should have the following attributes"
   ]
  },
  {
   "cell_type": "markdown",
   "metadata": {},
   "source": [
    "###### name and courses"
   ]
  },
  {
   "cell_type": "code",
   "execution_count": 1,
   "metadata": {},
   "outputs": [],
   "source": [
    "# 1. Define the Class:\n",
    "\n",
    "class Student:\n",
    "    \n",
    "    # 2. Constructor Method:\n",
    "\n",
    "    \"\"\"Define an __init__ method to initialize \n",
    "    - the 'name' attribute \n",
    "    - and initialize 'courses' as an empty list\n",
    "    \"\"\"\n",
    "    def __init__(self, name):\n",
    "        self.name = name\n",
    "        self.courses = []\n",
    "        print(f\" Name {self.name}\")\n",
    "    \n",
    "    # 3. Methods:\n",
    "    \n",
    "    \"\"\"Define a method named 'enroll' \n",
    "    that takes a course name as a parameter \n",
    "    and appends it to the courses list.\n",
    "    \"\"\"\n",
    "    def enroll(self, course_name):\n",
    "        self.courses.append(course_name)\n",
    "    \n",
    "    \"\"\"Define a method named 'get_courses' \n",
    "    that prints the list of courses \n",
    "    the student is enrolled in\n",
    "    \"\"\"\n",
    "    def get_courses(self):\n",
    "        print(self.courses)"
   ]
  },
  {
   "cell_type": "code",
   "execution_count": 2,
   "metadata": {},
   "outputs": [
    {
     "name": "stdout",
     "output_type": "stream",
     "text": [
      " Name Tamer\n",
      "['Al', 'IT']\n"
     ]
    }
   ],
   "source": [
    "# 1\n",
    "st = Student(\"Tamer\")\n",
    "\n",
    "# 2\n",
    "st.enroll(\"Al\");st.enroll('IT')\n",
    "\n",
    "st.get_courses()  "
   ]
  }
 ],
 "metadata": {
  "kernelspec": {
   "display_name": "Python 3 (ipykernel)",
   "language": "python",
   "name": "python3"
  },
  "language_info": {
   "codemirror_mode": {
    "name": "ipython",
    "version": 3
   },
   "file_extension": ".py",
   "mimetype": "text/x-python",
   "name": "python",
   "nbconvert_exporter": "python",
   "pygments_lexer": "ipython3",
   "version": "3.12.4"
  }
 },
 "nbformat": 4,
 "nbformat_minor": 4
}
