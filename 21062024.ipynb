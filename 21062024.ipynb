{
 "cells": [
  {
   "cell_type": "markdown",
   "metadata": {},
   "source": [
    "# Py-1"
   ]
  },
  {
   "cell_type": "markdown",
   "metadata": {},
   "source": [
    "## Exercise 1: Variable Assignment"
   ]
  },
  {
   "cell_type": "markdown",
   "metadata": {},
   "source": [
    "#### 1. Assign your name to a variable called name.\n",
    "#### 2. Assign your age to a variable called age."
   ]
  },
  {
   "cell_type": "markdown",
   "metadata": {},
   "source": [
    "###### 3. Print both variables."
   ]
  },
  {
   "cell_type": "code",
   "execution_count": 1,
   "metadata": {},
   "outputs": [
    {
     "name": "stdout",
     "output_type": "stream",
     "text": [
      "Tamer 49\n"
     ]
    }
   ],
   "source": [
    "name = \"Tamer\" # Assign your name to a variable called\n",
    "age = 49 # Assign your age to a variable called\n",
    "print(name, age) # Print both variables."
   ]
  },
  {
   "cell_type": "markdown",
   "metadata": {},
   "source": [
    "## Exercise 2: Simple Arithmetic"
   ]
  },
  {
   "cell_type": "markdown",
   "metadata": {},
   "source": [
    "#### 1. Assign two numbers to variables a and b."
   ]
  },
  {
   "cell_type": "markdown",
   "metadata": {},
   "source": [
    "###### 2. Calculate and print their sum, difference, product, and quotient."
   ]
  },
  {
   "cell_type": "code",
   "execution_count": 2,
   "metadata": {},
   "outputs": [
    {
     "name": "stdout",
     "output_type": "stream",
     "text": [
      "15\n",
      "50\n",
      "0.5\n",
      "-5\n"
     ]
    }
   ],
   "source": [
    "# Assign two numbers to variables\n",
    "a = 5 # المتغيير الاول\n",
    "b = 10 # المتغير الثاني\n",
    "# Calculate\n",
    "print(a + b) # sum\n",
    "print(a * b) # *\n",
    "print(a / b) # /\n",
    "print(a - b) # -"
   ]
  },
  {
   "cell_type": "markdown",
   "metadata": {},
   "source": [
    "## Exercise 3: String Concatenation"
   ]
  },
  {
   "cell_type": "markdown",
   "metadata": {},
   "source": [
    "#### 1. Assign your first name to a variable first_name.\n",
    "#### 2. Assign your last name to a variable last_name."
   ]
  },
  {
   "cell_type": "markdown",
   "metadata": {},
   "source": [
    "###### 3. Concatenate and print your full name."
   ]
  },
  {
   "cell_type": "code",
   "execution_count": 3,
   "metadata": {},
   "outputs": [
    {
     "name": "stdout",
     "output_type": "stream",
     "text": [
      "Tamer Hamad Faour\n"
     ]
    }
   ],
   "source": [
    "first_name = \"Tamer Hamad\" # Assign your first name to a variable\n",
    "last_name = \" Faour\" # Assign your last name to a variable\n",
    "print(first_name + last_name)"
   ]
  },
  {
   "cell_type": "markdown",
   "metadata": {},
   "source": [
    "## Exercise 4: Updating Variables"
   ]
  },
  {
   "cell_type": "markdown",
   "metadata": {},
   "source": [
    "#### 1. Assign a number to a variable counter."
   ]
  },
  {
   "cell_type": "markdown",
   "metadata": {},
   "source": [
    "###### 2. Increment the counter by 1 and print the result."
   ]
  },
  {
   "cell_type": "code",
   "execution_count": 4,
   "metadata": {},
   "outputs": [
    {
     "name": "stdout",
     "output_type": "stream",
     "text": [
      "1\n"
     ]
    }
   ],
   "source": [
    "x = 0 # Assign a number to a variable\n",
    "x += 1 # Increment the counter by 1\n",
    "print(x) # print the result"
   ]
  },
  {
   "cell_type": "markdown",
   "metadata": {},
   "source": [
    "## Exercise 5: Swapping Variables"
   ]
  },
  {
   "cell_type": "markdown",
   "metadata": {},
   "source": [
    "#### 1. Assign two numbers to variables x and y."
   ]
  },
  {
   "cell_type": "markdown",
   "metadata": {},
   "source": [
    "###### 2. Swap their values and print the new values."
   ]
  },
  {
   "cell_type": "code",
   "execution_count": 5,
   "metadata": {},
   "outputs": [
    {
     "name": "stdout",
     "output_type": "stream",
     "text": [
      "القيم الاصلية\n",
      "x = 5\n",
      "y = 10\n",
      "القيم بعد التعديل\n",
      "x = 10\n",
      "y = 5\n"
     ]
    }
   ],
   "source": [
    "# Assign two numbers to variables\n",
    "x = 5 #\n",
    "y = 10 #\n",
    "# Swap their values\n",
    "print(\"القيم الاصلية\")\n",
    "print(\"x =\", x)\n",
    "print(\"y =\", y)\n",
    "# print the new values\n",
    "x, y = y, x #\n",
    "print(\"القيم بعد التعديل\")\n",
    "print(\"x =\", x)\n",
    "print(\"y =\", y)"
   ]
  },
  {
   "cell_type": "markdown",
   "metadata": {},
   "source": [
    "## Exercise 6: Using Constants"
   ]
  },
  {
   "cell_type": "markdown",
   "metadata": {},
   "source": [
    "#### 1. Assign a value to a variable PI (use 3.14159).\n",
    "#### 2. Calculate the circumference of a circle "
   ]
  },
  {
   "cell_type": "markdown",
   "metadata": {},
   "source": [
    "###### with radius 5 using the formula circumference\n",
    "###### = 2 * PI * radius and print the result"
   ]
  },
  {
   "cell_type": "code",
   "execution_count": 6,
   "metadata": {},
   "outputs": [
    {
     "name": "stdout",
     "output_type": "stream",
     "text": [
      "محيط الدائرة هو  31.4159\n"
     ]
    }
   ],
   "source": [
    "PI = 3.14159 # Assign a value to a variable 'Constants'\n",
    "ra = 5 # radius\n",
    "cir = 2 * PI * ra # circumference\n",
    "print(\"محيط الدائرة هو \", cir)\n"
   ]
  },
  {
   "cell_type": "markdown",
   "metadata": {},
   "source": [
    "## Exercise 7: Boolean Variables"
   ]
  },
  {
   "cell_type": "markdown",
   "metadata": {},
   "source": [
    "#### 1. Assign True to a variable is_sunny.\n",
    "#### 2. Assign False to a variable is_raining."
   ]
  },
  {
   "cell_type": "code",
   "execution_count": 7,
   "metadata": {},
   "outputs": [
    {
     "name": "stdout",
     "output_type": "stream",
     "text": [
      "قيمة ok True\n",
      "قيمة no False\n"
     ]
    }
   ],
   "source": [
    "ok = True # Assign True to a variable\n",
    "no = False # Assign False to a variable\n",
    "\n",
    "# Print both variables\n",
    "print(\"قيمة ok\", ok)\n",
    "print(\"قيمة no\", no)"
   ]
  },
  {
   "cell_type": "markdown",
   "metadata": {},
   "source": [
    "## Exercise 8: Type Conversion"
   ]
  },
  {
   "cell_type": "markdown",
   "metadata": {},
   "source": [
    "#### 1. Assign a number to a variable num.\n",
    "#### 2. Convert the number to a string and assign it to a variable num_str."
   ]
  },
  {
   "cell_type": "markdown",
   "metadata": {},
   "source": [
    "###### 3. Print both variables."
   ]
  },
  {
   "cell_type": "code",
   "execution_count": 8,
   "metadata": {},
   "outputs": [
    {
     "name": "stdout",
     "output_type": "stream",
     "text": [
      "نوع المتغير num  <class 'int'>\n",
      "نوع المتغير numstr  <class 'str'>\n"
     ]
    }
   ],
   "source": [
    "num = 42 #\n",
    "num_str = str(num) #\n",
    "print(\"نوع المتغير num \", type(num))\n",
    "print(\"نوع المتغير numstr \", type(num_str))\n"
   ]
  },
  {
   "cell_type": "markdown",
   "metadata": {},
   "source": [
    "## Exercise 9: Length of a String"
   ]
  },
  {
   "cell_type": "markdown",
   "metadata": {},
   "source": [
    "#### 1. Assign a string to a variable sentence."
   ]
  },
  {
   "cell_type": "markdown",
   "metadata": {},
   "source": [
    "###### 2. Calculate and print the length of the string."
   ]
  },
  {
   "cell_type": "code",
   "execution_count": 9,
   "metadata": {},
   "outputs": [
    {
     "name": "stdout",
     "output_type": "stream",
     "text": [
      "طول السسلة النصية هو 17\n"
     ]
    }
   ],
   "source": [
    "strText = \"هذه     جملة نصية\"\n",
    "length = len(strText) #\n",
    "print(\"طول السسلة النصية هو\", length)"
   ]
  },
  {
   "cell_type": "markdown",
   "metadata": {},
   "source": [
    "## Exercise 10: Variable Naming"
   ]
  },
  {
   "cell_type": "markdown",
   "metadata": {},
   "source": [
    "#### 1. Assign values to variables with meaningful names (e.g., height_in_meters,weight_in_kilograms)."
   ]
  },
  {
   "cell_type": "markdown",
   "metadata": {},
   "source": [
    "##### 2. Calculate and print the BMI using the formula"
   ]
  },
  {
   "cell_type": "markdown",
   "metadata": {},
   "source": [
    "######  BMI = weight_in_kilograms / (height_in_meters ** 2)"
   ]
  },
  {
   "cell_type": "code",
   "execution_count": 10,
   "metadata": {},
   "outputs": [
    {
     "name": "stdout",
     "output_type": "stream",
     "text": [
      "مؤشر كتلة الجسم (BMI) هو: 22.857142857142858\n"
     ]
    }
   ],
   "source": [
    "# الخطوة 1: تعيين قيم لمتغيرات ذات أسماء معبرة\n",
    "hei = 1.75  # لاحظ عدم وجود أي أقواس إضافية هنا\n",
    "wei = 70  # لاحظ عدم وجود أي أقواس إضافية هنا\n",
    "\n",
    "# الخطوة 2: حساب مؤشر كتلة الجسم باستخدام الصيغة BMI = الوزن بالكيلوجرام / (الطول بالمتر ** 2)\n",
    "BMI = wei / (hei ** 2)\n",
    "\n",
    "# طباعة النتيجة\n",
    "print(\"مؤشر كتلة الجسم (BMI) هو:\", BMI)\n"
   ]
  }
 ],
 "metadata": {
  "kernelspec": {
   "display_name": "Python 3 (ipykernel)",
   "language": "python",
   "name": "python3"
  },
  "language_info": {
   "codemirror_mode": {
    "name": "ipython",
    "version": 3
   },
   "file_extension": ".py",
   "mimetype": "text/x-python",
   "name": "python",
   "nbconvert_exporter": "python",
   "pygments_lexer": "ipython3",
   "version": "3.12.3"
  }
 },
 "nbformat": 4,
 "nbformat_minor": 4
}
