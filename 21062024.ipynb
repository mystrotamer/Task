{
 "cells": [
  {
   "cell_type": "code",
   "execution_count": 1,
   "metadata": {},
   "outputs": [
    {
     "name": "stdout",
     "output_type": "stream",
     "text": [
      "Tamer 49\n"
     ]
    }
   ],
   "source": [
    "# print(\"Exercise 1\")\n",
    "\n",
    "name = \"Tamer\" # Assign your name to a variable called\n",
    "age = 49 # Assign your age to a variable called\n",
    "print(name, age) # Print both variables."
   ]
  },
  {
   "cell_type": "code",
   "execution_count": 2,
   "metadata": {},
   "outputs": [
    {
     "name": "stdout",
     "output_type": "stream",
     "text": [
      "15\n",
      "50\n",
      "0.5\n",
      "-5\n"
     ]
    }
   ],
   "source": [
    "# print(\"Exercise 2\")\n",
    "\n",
    "# Assign two numbers to variables\n",
    "a = 5 # المتغيير الاول\n",
    "b = 10 # المتغير الثاني\n",
    "# Calculate\n",
    "print(a + b) # sum\n",
    "print(a * b) # *\n",
    "print(a / b) # /\n",
    "print(a - b) # -"
   ]
  },
  {
   "cell_type": "code",
   "execution_count": 3,
   "metadata": {},
   "outputs": [
    {
     "name": "stdout",
     "output_type": "stream",
     "text": [
      "Tamer Hamad Faour\n"
     ]
    }
   ],
   "source": [
    "# print(\"Exercise 3\")\n",
    "\n",
    "first_name = \"Tamer Hamad\" # Assign your first name to a variable\n",
    "last_name = \" Faour\" # Assign your last name to a variable\n",
    "print(first_name + last_name)"
   ]
  },
  {
   "cell_type": "code",
   "execution_count": 4,
   "metadata": {},
   "outputs": [
    {
     "name": "stdout",
     "output_type": "stream",
     "text": [
      "1\n"
     ]
    }
   ],
   "source": [
    "# print(\"Exercise 4\")\n",
    "\n",
    "x = 0 # Assign a number to a variable\n",
    "x += 1 # Increment the counter by 1\n",
    "print(x) # print the result"
   ]
  },
  {
   "cell_type": "code",
   "execution_count": 5,
   "metadata": {},
   "outputs": [
    {
     "name": "stdout",
     "output_type": "stream",
     "text": [
      "القيم الاصلية\n",
      "x = 5\n",
      "y = 10\n",
      "القيم بعد التعديل\n",
      "x = 10\n",
      "y = 5\n"
     ]
    }
   ],
   "source": [
    "# print(\"Exercise 5\")\n",
    "\n",
    "# Assign two numbers to variables\n",
    "x = 5 #\n",
    "y = 10 #\n",
    "# Swap their values\n",
    "print(\"القيم الاصلية\")\n",
    "print(\"x =\", x)\n",
    "print(\"y =\", y)\n",
    "# print the new values\n",
    "x, y = y, x #\n",
    "print(\"القيم بعد التعديل\")\n",
    "print(\"x =\", x)\n",
    "print(\"y =\", y)"
   ]
  },
  {
   "cell_type": "code",
   "execution_count": 6,
   "metadata": {},
   "outputs": [
    {
     "name": "stdout",
     "output_type": "stream",
     "text": [
      "محيط الدائرة هو  31.4159\n"
     ]
    }
   ],
   "source": [
    "# print(\"Exercise 6\")\n",
    "\n",
    "PI = 3.14159 # Assign a value to a variable 'Constants'\n",
    "ra = 5 # radius\n",
    "cir = 2 * PI * ra # circumference\n",
    "print(\"محيط الدائرة هو \", cir)\n"
   ]
  },
  {
   "cell_type": "code",
   "execution_count": 7,
   "metadata": {},
   "outputs": [
    {
     "name": "stdout",
     "output_type": "stream",
     "text": [
      "قيمة ok True\n",
      "قيمة no False\n"
     ]
    }
   ],
   "source": [
    "# print(\"Exercise 7\")\n",
    "\n",
    "ok = True # Assign True to a variable\n",
    "no = False # Assign False to a variable\n",
    "\n",
    "# Print both variables\n",
    "print(\"قيمة ok\", ok)\n",
    "print(\"قيمة no\", no)"
   ]
  },
  {
   "cell_type": "code",
   "execution_count": 8,
   "metadata": {},
   "outputs": [
    {
     "name": "stdout",
     "output_type": "stream",
     "text": [
      "نوع المتغير num  <class 'int'>\n",
      "نوع المتغير numstr  <class 'str'>\n"
     ]
    }
   ],
   "source": [
    "# print(\"Exercise 8\")\n",
    "\n",
    "num = 42 #\n",
    "num_str = str(num) #\n",
    "print(\"نوع المتغير num \", type(num))\n",
    "print(\"نوع المتغير numstr \", type(num_str))\n"
   ]
  },
  {
   "cell_type": "code",
   "execution_count": 9,
   "metadata": {},
   "outputs": [
    {
     "name": "stdout",
     "output_type": "stream",
     "text": [
      "طول السسلة النصية هو 17\n"
     ]
    }
   ],
   "source": [
    "# print(\"Exercise 9\")\n",
    "\n",
    "strText = \"هذه     جملة نصية\"\n",
    "length = len(strText) #\n",
    "print(\"طول السسلة النصية هو\", length)"
   ]
  },
  {
   "cell_type": "code",
   "execution_count": 10,
   "metadata": {},
   "outputs": [
    {
     "name": "stdout",
     "output_type": "stream",
     "text": [
      "مؤشر كتلة الجسم (BMI) هو: 22.857142857142858\n"
     ]
    }
   ],
   "source": [
    "# print(\"Exercise 10\")\n",
    "\n",
    "# الخطوة 1: تعيين قيم لمتغيرات ذات أسماء معبرة\n",
    "hei = 1.75  # لاحظ عدم وجود أي أقواس إضافية هنا\n",
    "wei = 70  # لاحظ عدم وجود أي أقواس إضافية هنا\n",
    "\n",
    "# الخطوة 2: حساب مؤشر كتلة الجسم باستخدام الصيغة BMI = الوزن بالكيلوجرام / (الطول بالمتر ** 2)\n",
    "BMI = wei / (hei ** 2)\n",
    "\n",
    "# طباعة النتيجة\n",
    "print(\"مؤشر كتلة الجسم (BMI) هو:\", BMI)\n"
   ]
  }
 ],
 "metadata": {
  "kernelspec": {
   "display_name": "Python 3 (ipykernel)",
   "language": "python",
   "name": "python3"
  },
  "language_info": {
   "codemirror_mode": {
    "name": "ipython",
    "version": 3
   },
   "file_extension": ".py",
   "mimetype": "text/x-python",
   "name": "python",
   "nbconvert_exporter": "python",
   "pygments_lexer": "ipython3",
   "version": "3.12.4"
  }
 },
 "nbformat": 4,
 "nbformat_minor": 4
}
