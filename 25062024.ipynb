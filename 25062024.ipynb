{
 "cells": [
  {
   "cell_type": "code",
   "execution_count": null,
   "metadata": {},
   "outputs": [],
   "source": [
    "'''\n",
    "Exercise 1: For Loop\n",
    "    - Problem: Write a program that | prints the numbers ?\n",
    "        = from 1 to 10 using a for loop\n",
    "'''\n",
    "\n",
    "for num in range(1, 11):\n",
    "    print(num)"
   ]
  },
  {
   "cell_type": "code",
   "execution_count": null,
   "metadata": {},
   "outputs": [],
   "source": [
    "'''\n",
    "Exercise 2: While Loop\n",
    "    - Problem: Write a program that |\n",
    "    asks the user to enter a positive number.\n",
    "    Keep asking the user for a number until they enter a positive one.?\n",
    "        = Once they enter a positive number, print it\n",
    "'''\n",
    "\n",
    "while True:\n",
    "    try:\n",
    "        num = int(input(\"Enter a positive number :\"))\n",
    "        if num > 0:\n",
    "            print(f\"Enter a positive number : {num}\")\n",
    "            break\n",
    "        else:\n",
    "            print(f\"Please Enter a positive number\")\n",
    "    except ValueError:\n",
    "        print(f\"That's not a valid number. Please try again\")"
   ]
  },
  {
   "cell_type": "code",
   "execution_count": null,
   "metadata": {},
   "outputs": [],
   "source": [
    "''' \n",
    "Exercise 3: Nested Loops\n",
    "    - Problem: Write a program that |\n",
    "    prints a multiplication table for numbers 1 to 5.\n",
    "        = Use nested loops to generate the table\n",
    "'''\n",
    "\n",
    "for num in range(1, 6):\n",
    "    for numin in range(1, 6):\n",
    "        print(f\"{num} * {numin} = {num * numin}\")\n",
    "    print()"
   ]
  },
  {
   "cell_type": "code",
   "execution_count": null,
   "metadata": {},
   "outputs": [],
   "source": [
    "''' \n",
    "Exercise 4: Simple Function\n",
    "    - Problem: Write a function greet that | \n",
    "    takes a name as input and\n",
    "    prints a greeting message,\n",
    "        = e.g., \"Hello, [name]!\"\n",
    "'''\n",
    "\n",
    "textname = input('Enter your name :')\n",
    "print(f\"Hallo, {textname}\")"
   ]
  },
  {
   "cell_type": "code",
   "execution_count": null,
   "metadata": {},
   "outputs": [],
   "source": [
    "'''\n",
    "Exercise 5: Function with Loop\n",
    "    - Problem: Write a function countdown that |\n",
    "    takes a number as input and\n",
    "        = prints a countdown from that number to zero using a loop\n",
    "'''\n",
    "\n",
    "textnum = int(input(\" Enter number Start :\"))\n",
    "for i in range(textnum, -1, -1):\n",
    "    \n",
    "    print(i)\n",
    "    "
   ]
  },
  {
   "cell_type": "code",
   "execution_count": null,
   "metadata": {},
   "outputs": [],
   "source": [
    "''' \n",
    "Exercise 6: Function with Loop and Data Types (Lists)\n",
    "    - Problem: Write a function print_list that |\n",
    "    takes a list of strings as \n",
    "    input and prints each string on a new line using a loop.\n",
    "    Then,\n",
    "        = demonstrate the function with a list of your choice\n",
    "'''\n",
    "\n",
    "textlist = [\"Tamer\", \"Nader\", \"Abdulwahah\", \"Raghad\", \"Esraa\"]\n",
    "for i in textlist:\n",
    "    print(i)\n",
    "    "
   ]
  },
  {
   "cell_type": "code",
   "execution_count": null,
   "metadata": {},
   "outputs": [],
   "source": [
    "'''\n",
    "Exercise 7: Using break and continue\n",
    "    - Problem: Write a program that | asks the user to enter numbers. \n",
    "    If the user enters a negative number,\n",
    "    the program should stop asking for input (using break).\n",
    "    If the user enters a number greater than 100,\n",
    "    the program should ignore it (using continue).\n",
    "        = Print each valid number entered by the user\n",
    "'''\n",
    "\n",
    "while True:\n",
    "    try:\n",
    "        num = int(input(' Enter Number :'))\n",
    "        if num < 0:\n",
    "            break\n",
    "        if num > 100:\n",
    "            continue\n",
    "        print(f\"You Entered: {num}\")\n",
    "    except ValueError:\n",
    "        print(f\"That's not a valid number. Please try again\")\n",
    "        "
   ]
  },
  {
   "cell_type": "code",
   "execution_count": null,
   "metadata": {},
   "outputs": [],
   "source": [
    "''' \n",
    "Exercise 8: Strings as Lists\n",
    "    - Problem: Write a function reverse_string that |\n",
    "    takes a string as input and\n",
    "    returns the string reversed by treating it as a list of characters.\n",
    "        = Do not use any built-in string reversing methods\n",
    "'''\n",
    "\n",
    "def RE(s=\"Tamer\"):\n",
    "    REs = \"\"\n",
    "    for i in s:\n",
    "        REs = i + REs\n",
    "    return REs\n",
    "print(RE())   "
   ]
  }
 ],
 "metadata": {
  "kernelspec": {
   "display_name": "Python 3 (ipykernel)",
   "language": "python",
   "name": "python3"
  },
  "language_info": {
   "codemirror_mode": {
    "name": "ipython",
    "version": 3
   },
   "file_extension": ".py",
   "mimetype": "text/x-python",
   "name": "python",
   "nbconvert_exporter": "python",
   "pygments_lexer": "ipython3",
   "version": "3.12.4"
  }
 },
 "nbformat": 4,
 "nbformat_minor": 4
}
