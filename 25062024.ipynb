{
 "cells": [
  {
   "cell_type": "markdown",
   "metadata": {},
   "source": [
    "# Py-3"
   ]
  },
  {
   "cell_type": "markdown",
   "metadata": {},
   "source": [
    "#### Exercise 1: For Loop\n",
    "#####    - Problem: Write a program that | prints the numbers ?\n",
    "######        = from 1 to 10 using a for loop"
   ]
  },
  {
   "cell_type": "code",
   "execution_count": 1,
   "metadata": {},
   "outputs": [
    {
     "name": "stdout",
     "output_type": "stream",
     "text": [
      "1\n",
      "2\n",
      "3\n",
      "4\n",
      "5\n",
      "6\n",
      "7\n",
      "8\n",
      "9\n",
      "10\n"
     ]
    }
   ],
   "source": [
    "for num in range(1, 11):\n",
    "    print(num)"
   ]
  },
  {
   "cell_type": "markdown",
   "metadata": {},
   "source": [
    "#### Exercise 2: While Loop\n",
    "#####    - Problem: Write a program that |\n",
    "#####    asks the user to enter a positive number.\n",
    "#####    Keep asking the user for a number until they enter a positive one.?\n",
    "######        = Once they enter a positive number, print it"
   ]
  },
  {
   "cell_type": "code",
   "execution_count": 2,
   "metadata": {},
   "outputs": [
    {
     "name": "stdout",
     "output_type": "stream",
     "text": [
      "Enter a positive number : 20\n"
     ]
    }
   ],
   "source": [
    "while True:\n",
    "    try:\n",
    "        num = int(input(\"Enter a positive number :\"))\n",
    "        if num > 0:\n",
    "            print(f\"Enter a positive number : {num}\")\n",
    "            break\n",
    "        else:\n",
    "            print(f\"Please Enter a positive number\")\n",
    "    except ValueError:\n",
    "        print(f\"That's not a valid number. Please try again\")"
   ]
  },
  {
   "cell_type": "markdown",
   "metadata": {},
   "source": [
    "#### Exercise 3: Nested Loops\n",
    "#####    - Problem: Write a program that |\n",
    "#####    prints a multiplication table for numbers 1 to 5.\n",
    "######        = Use nested loops to generate the table"
   ]
  },
  {
   "cell_type": "code",
   "execution_count": 2,
   "metadata": {},
   "outputs": [
    {
     "name": "stdout",
     "output_type": "stream",
     "text": [
      "1 * 1 = 1\n",
      "1 * 2 = 2\n",
      "1 * 3 = 3\n",
      "1 * 4 = 4\n",
      "1 * 5 = 5\n",
      "\n",
      "2 * 1 = 2\n",
      "2 * 2 = 4\n",
      "2 * 3 = 6\n",
      "2 * 4 = 8\n",
      "2 * 5 = 10\n",
      "\n",
      "3 * 1 = 3\n",
      "3 * 2 = 6\n",
      "3 * 3 = 9\n",
      "3 * 4 = 12\n",
      "3 * 5 = 15\n",
      "\n",
      "4 * 1 = 4\n",
      "4 * 2 = 8\n",
      "4 * 3 = 12\n",
      "4 * 4 = 16\n",
      "4 * 5 = 20\n",
      "\n",
      "5 * 1 = 5\n",
      "5 * 2 = 10\n",
      "5 * 3 = 15\n",
      "5 * 4 = 20\n",
      "5 * 5 = 25\n",
      "\n"
     ]
    }
   ],
   "source": [
    "for num in range(1, 6):\n",
    "    for numin in range(1, 6):\n",
    "        print(f\"{num} * {numin} = {num * numin}\")\n",
    "    print()"
   ]
  },
  {
   "cell_type": "markdown",
   "metadata": {},
   "source": [
    "#### Exercise 4: Simple Function\n",
    "#####    - Problem: Write a function greet that | \n",
    "#####    takes a name as input and\n",
    "#####    prints a greeting message,\n",
    "######        = e.g., \"Hello, [name]!\""
   ]
  },
  {
   "cell_type": "code",
   "execution_count": 7,
   "metadata": {},
   "outputs": [
    {
     "name": "stdout",
     "output_type": "stream",
     "text": [
      "Hallo, Tamer\n"
     ]
    }
   ],
   "source": [
    "def greet():\n",
    "    textname = input('Enter your name :')\n",
    "    return(f\"Hallo, {textname}\")\n",
    "print(greet())"
   ]
  },
  {
   "cell_type": "markdown",
   "metadata": {},
   "source": [
    "#### Exercise 5: Function with Loop\n",
    "#####    - Problem: Write a function countdown that |\n",
    "#####    takes a number as input and\n",
    "######        = prints a countdown from that number to zero using a loop"
   ]
  },
  {
   "cell_type": "code",
   "execution_count": 17,
   "metadata": {},
   "outputs": [
    {
     "name": "stdout",
     "output_type": "stream",
     "text": [
      "5\n",
      "4\n",
      "3\n",
      "2\n",
      "1\n",
      "0\n"
     ]
    }
   ],
   "source": [
    "def countdown():\n",
    "    textnum = int(input(\" Enter number Start :\"))\n",
    "    for i in range(textnum, -1, -1):\n",
    "        print(i)\n",
    "        \n",
    "countdown()\n",
    "    "
   ]
  },
  {
   "cell_type": "markdown",
   "metadata": {},
   "source": [
    "#### Exercise 6: Function with Loop and Data Types (Lists)\n",
    "#####    - Problem: Write a function print_list that |\n",
    "#####    takes a list of strings as \n",
    "#####    input and prints each string on a new line using a loop.\n",
    "#####    Then,\n",
    "######        = demonstrate the function with a list of your choice"
   ]
  },
  {
   "cell_type": "code",
   "execution_count": 22,
   "metadata": {},
   "outputs": [
    {
     "name": "stdout",
     "output_type": "stream",
     "text": [
      "Tamer\n",
      "Nader\n",
      "Abdulwahah\n",
      "Raghad\n",
      "Esraa\n",
      "None\n"
     ]
    }
   ],
   "source": [
    "def print_list():\n",
    "    textlist = [\"Tamer\", \"Nader\", \"Abdulwahah\", \"Raghad\", \"Esraa\"]\n",
    "    for i in textlist:\n",
    "        print(i)\n",
    "print(print_list())   "
   ]
  },
  {
   "cell_type": "markdown",
   "metadata": {},
   "source": [
    "#### Exercise 7: Using break and continue\n",
    "#####    - Problem: Write a program that | asks the user to enter numbers. \n",
    "#####    If the user enters a negative number,\n",
    "#####    the program should stop asking for input (using break).\n",
    "#####    If the user enters a number greater than 100,\n",
    "#####    the program should ignore it (using continue).\n",
    "######        = Print each valid number entered by the user"
   ]
  },
  {
   "cell_type": "code",
   "execution_count": 8,
   "metadata": {},
   "outputs": [
    {
     "name": "stdout",
     "output_type": "stream",
     "text": [
      "You Entered: 5\n",
      "You Entered: 10\n",
      "You Entered: 15\n",
      "You Entered: 85\n",
      "You Entered: 0\n",
      "You Entered: 100\n",
      "You Entered: 5\n"
     ]
    }
   ],
   "source": [
    "while True:\n",
    "    try:\n",
    "        num = int(input(' Enter Number :'))\n",
    "        if num < 0:\n",
    "            break\n",
    "        if num > 100:\n",
    "            continue\n",
    "        print(f\"You Entered: {num}\")\n",
    "    except ValueError:\n",
    "        print(f\"That's not a valid number. Please try again\")\n",
    "        "
   ]
  },
  {
   "cell_type": "markdown",
   "metadata": {},
   "source": [
    "#### Exercise 8: Strings as Lists\n",
    "#####    - Problem: Write a function reverse_string that |\n",
    "#####    takes a string as input and\n",
    "#####    returns the string reversed by treating it as a list of characters.\n",
    "######        = Do not use any built-in string reversing methods"
   ]
  },
  {
   "cell_type": "code",
   "execution_count": 9,
   "metadata": {},
   "outputs": [
    {
     "name": "stdout",
     "output_type": "stream",
     "text": [
      "remaT\n"
     ]
    }
   ],
   "source": [
    "def RE(s=\"Tamer\"):\n",
    "    REs = \"\"\n",
    "    for i in s:\n",
    "        REs = i + REs\n",
    "    return REs\n",
    "print(RE())   "
   ]
  }
 ],
 "metadata": {
  "kernelspec": {
   "display_name": "Python 3 (ipykernel)",
   "language": "python",
   "name": "python3"
  },
  "language_info": {
   "codemirror_mode": {
    "name": "ipython",
    "version": 3
   },
   "file_extension": ".py",
   "mimetype": "text/x-python",
   "name": "python",
   "nbconvert_exporter": "python",
   "pygments_lexer": "ipython3",
   "version": "3.12.4"
  }
 },
 "nbformat": 4,
 "nbformat_minor": 4
}
