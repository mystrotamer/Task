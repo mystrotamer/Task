{
 "cells": [
  {
   "cell_type": "markdown",
   "metadata": {},
   "source": [
    "## Py-4"
   ]
  },
  {
   "cell_type": "markdown",
   "metadata": {},
   "source": [
    "# Task1 : Create a Car Class"
   ]
  },
  {
   "cell_type": "markdown",
   "metadata": {},
   "source": [
    "#### ○ Create a class named Car.\n",
    "#### ○ The class should have the following attributes"
   ]
  },
  {
   "cell_type": "markdown",
   "metadata": {},
   "source": [
    "###### make, model, year, and odometer_reading"
   ]
  },
  {
   "cell_type": "code",
   "execution_count": 1,
   "metadata": {},
   "outputs": [],
   "source": [
    "# 1. Define the Class:\n",
    "\n",
    "class Car:\n",
    "\n",
    "# 2. Constructor Method:\n",
    "    \"\"\"Define an __init__ method to initialize these attributes.\n",
    "    The 'odometer_reading' should be initialized to 0.\"\"\"\n",
    "    def __init__(self, make, model, year):\n",
    "        self.make = make\n",
    "        self.model = model\n",
    "        self.year = year\n",
    "        self.odometer_reading = 0\n",
    "\n",
    "# 3. Methods:\n",
    "\n",
    "    \"\"\" Define a method named 'get_description' \n",
    "    that returns a neatly formatted\n",
    "    descriptive name for the car.\n",
    "    \"\"\"\n",
    "    \n",
    "    def get_description(self):\n",
    "        return f\"{self.year} {self.make} {self.model}\"\n",
    "\n",
    "    \"\"\"Define a method named 'read_odometer' \n",
    "    that prints a statement showing \n",
    "    the car's mileage.\n",
    "    \"\"\"\n",
    "    def read_odometer(self):\n",
    "        print(f\"This car has {self.odometer_reading} miles on it.\")\n",
    "\n",
    "    \"\"\"Define a method named 'update_odometer' \n",
    "    that sets the odometer reading to a given value.\n",
    "    This method should reject any attempt to roll back the odometer\n",
    "    \"\"\"\n",
    "    def update_odometer(self, mileage):\n",
    "        if mileage >= self.odometer_reading:\n",
    "            self.odometer_reading = mileage\n",
    "        else:\n",
    "            print(\"You can't roll back an odometer!\")\n",
    "\n",
    "    \"\"\"Define a method named 'increment_odometer'\n",
    "    that increments the odometer\n",
    "    reading by a given amount\n",
    "    \"\"\"\n",
    "    def increment_odometer(self, miles):\n",
    "        self.odometer_reading += miles\n"
   ]
  },
  {
   "cell_type": "code",
   "execution_count": 2,
   "metadata": {},
   "outputs": [
    {
     "name": "stdout",
     "output_type": "stream",
     "text": [
      "2025 BWS TerBo\n",
      "This car has 0 miles on it.\n",
      "This car has 7000 miles on it.\n",
      "This car has 8500 miles on it.\n"
     ]
    }
   ],
   "source": [
    "# 1\n",
    "Emake ='BWS' # input(' Enter make Car ')\n",
    "Emodel = 'TerBo'# input(' Enter model Car ')\n",
    "Eyear = 2025 # int(input(' Enter Year Car '))\n",
    "Ex = Car(Emake, Emodel, Eyear)\n",
    "print(Ex.get_description())\n",
    "\n",
    "# 2\n",
    "\n",
    "Ex.read_odometer()\n",
    "Ex.update_odometer(7000)\n",
    "Ex.read_odometer()\n",
    "Ex.increment_odometer(1500)\n",
    "Ex.read_odometer()\n"
   ]
  }
 ],
 "metadata": {
  "kernelspec": {
   "display_name": "Python 3 (ipykernel)",
   "language": "python",
   "name": "python3"
  },
  "language_info": {
   "codemirror_mode": {
    "name": "ipython",
    "version": 3
   },
   "file_extension": ".py",
   "mimetype": "text/x-python",
   "name": "python",
   "nbconvert_exporter": "python",
   "pygments_lexer": "ipython3",
   "version": "3.12.3"
  }
 },
 "nbformat": 4,
 "nbformat_minor": 4
}
