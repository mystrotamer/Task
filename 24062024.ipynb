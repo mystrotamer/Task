{
 "cells": [
  {
   "cell_type": "markdown",
   "metadata": {},
   "source": [
    "# Py-2"
   ]
  },
  {
   "cell_type": "markdown",
   "metadata": {},
   "source": [
    "# Python Task 2 : Operators and conditions"
   ]
  },
  {
   "cell_type": "markdown",
   "metadata": {},
   "source": [
    "#### Exercise 1: Basic Conditions"
   ]
  },
  {
   "cell_type": "markdown",
   "metadata": {},
   "source": [
    "#####   - Problem: Write a program that | asks the user to input their age ? and\n",
    "#####   - then prints whether they are :"
   ]
  },
  {
   "cell_type": "markdown",
   "metadata": {},
   "source": [
    "######       = a minor (under 18),\n",
    "######       = an adult (18-64),\n",
    "######       = or a senior (65 and older)"
   ]
  },
  {
   "cell_type": "code",
   "execution_count": 1,
   "metadata": {},
   "outputs": [
    {
     "name": "stdout",
     "output_type": "stream",
     "text": [
      "Enter your Age is  49\n",
      "You are an adult\n"
     ]
    }
   ],
   "source": [
    "age = int(input(\"Enter your age: \"))\n",
    "print(\"Enter your Age is \", age)\n",
    "if age < 18:\n",
    "    print(\"You are a minor\")\n",
    "elif 18 <= age <= 64:\n",
    "    print(\"You are an adult\")\n",
    "else:\n",
    "    print(\"You are a senior\")"
   ]
  },
  {
   "cell_type": "markdown",
   "metadata": {},
   "source": [
    "#### Exercise 2: Comparison Operators"
   ]
  },
  {
   "cell_type": "markdown",
   "metadata": {},
   "source": [
    "#####   - Problem: Write a program that | takes two numbers as input from the user ? and\n",
    "#####   - prints which one :"
   ]
  },
  {
   "cell_type": "markdown",
   "metadata": {},
   "source": [
    "######       = is greater \n",
    "######       = or if they are equal"
   ]
  },
  {
   "cell_type": "code",
   "execution_count": 2,
   "metadata": {},
   "outputs": [
    {
     "name": "stdout",
     "output_type": "stream",
     "text": [
      " Enter your first Number is  15.0\n",
      " Enter your second Number is  25.0\n",
      "15.0 is less than 25.0\n"
     ]
    }
   ],
   "source": [
    "number1 = float(input(\"Enter the first number: \"))\n",
    "number2 = float(input(\"Enter the second number: \"))\n",
    "print(\" Enter your first Number is \", number1)\n",
    "print(\" Enter your second Number is \", number2)\n",
    "\n",
    "if number1 > number2:\n",
    "    print(f\"{number1} is greater than {number2}\")\n",
    "elif number1 < number2:\n",
    "    print(f\"{number1} is less than {number2}\")\n",
    "else:\n",
    "    print(\"Both numbers are equal\")"
   ]
  },
  {
   "cell_type": "markdown",
   "metadata": {},
   "source": [
    "#### Exercise 3: Logical Operators"
   ]
  },
  {
   "cell_type": "markdown",
   "metadata": {},
   "source": [
    "#####   - Problem: Write a program that |\n",
    "#####     checks if a number input by the user ? "
   ]
  },
  {
   "cell_type": "markdown",
   "metadata": {},
   "source": [
    "######       = is positive,\n",
    "######       = even, and \n",
    "######       = greater than 10"
   ]
  },
  {
   "cell_type": "code",
   "execution_count": 3,
   "metadata": {},
   "outputs": [
    {
     "name": "stdout",
     "output_type": "stream",
     "text": [
      "Enter your Number is  18.0\n",
      "The number is positive, even, and greater than 10\n"
     ]
    }
   ],
   "source": [
    "number = float(input(\"Enter a number: \"))\n",
    "print(\"Enter your Number is \",number)\n",
    "\n",
    "if number > 0 and number % 2 == 0 and number > 10:\n",
    "    print(\"The number is positive, even, and greater than 10\")\n",
    "else:\n",
    "    print(\"The number does not meet all the conditions\")"
   ]
  },
  {
   "cell_type": "markdown",
   "metadata": {},
   "source": [
    "#### Exercise 4: Nested Conditions"
   ]
  },
  {
   "cell_type": "markdown",
   "metadata": {},
   "source": [
    "#####   - Problem: Write a program that | asks for the user's score on a test ? and  \n",
    "#####  - prints the grade:"
   ]
  },
  {
   "cell_type": "markdown",
   "metadata": {},
   "source": [
    "######       'A' = (90-100)\n",
    "######       'B' = (80-89)\n",
    "######       'C' = (70-79)\n",
    "######      'D' = (60-69) or\n",
    "######       'F' = (below 60)"
   ]
  },
  {
   "cell_type": "code",
   "execution_count": 4,
   "metadata": {},
   "outputs": [
    {
     "name": "stdout",
     "output_type": "stream",
     "text": [
      " Enter your score is  75.0\n",
      "Grade: C\n"
     ]
    }
   ],
   "source": [
    "score = float(input(\"Enter your test score: \"))\n",
    "print(\" Enter your score is \", score)\n",
    "if 90 <= score <= 100:\n",
    "    print(\"Grade: A\")\n",
    "elif 80 <= score < 90:\n",
    "    print(\"Grade: B\")\n",
    "elif 70 <= score < 80:\n",
    "    print(\"Grade: C\")\n",
    "elif 60 <= score < 70:\n",
    "    print(\"Grade: D\")\n",
    "else:\n",
    "    print(\"Grade: F\")"
   ]
  },
  {
   "cell_type": "markdown",
   "metadata": {},
   "source": [
    "#### Exercise 5: Arithmetic Operators"
   ]
  },
  {
   "cell_type": "markdown",
   "metadata": {},
   "source": [
    "#####   - Problem: Write a program that |\n",
    "#####   - asks the user to input two numbers ? and \n",
    "#####   - then prints the:"
   ]
  },
  {
   "cell_type": "markdown",
   "metadata": {},
   "source": [
    "######       = sum, \n",
    "######       = difference,\n",
    "######       = product, and\n",
    "######       = quotient of those numbers"
   ]
  },
  {
   "cell_type": "code",
   "execution_count": 5,
   "metadata": {},
   "outputs": [
    {
     "name": "stdout",
     "output_type": "stream",
     "text": [
      " Enter your first Number is  15.0\n",
      " Enter your second Number is  25.0\n",
      "The result of the addition: 47.0\n",
      "Subtraction result: -9.0\n",
      "Product of multiplication: 532.0\n",
      "Quotient: 0.6785714285714286\n"
     ]
    }
   ],
   "source": [
    "num1 = float(input(\"Enter the first number: \"))\n",
    "num2 = float(input(\"Enter the second number: \"))\n",
    "print(\" Enter your first Number is \", number1)\n",
    "print(\" Enter your second Number is \", number2)\n",
    "\n",
    "print(f\"The result of the addition: {num1 + num2}\")\n",
    "print(f\"Subtraction result: {num1 - num2}\")\n",
    "print(f\"Product of multiplication: {num1 * num2}\")\n",
    "if num2 != 0:\n",
    "    print(f\"Quotient: {num1 / num2}\")\n",
    "else:\n",
    "    print(\"Division by zero is not accepted\")"
   ]
  },
  {
   "cell_type": "markdown",
   "metadata": {},
   "source": [
    "#### Exercise 6: Using elif"
   ]
  },
  {
   "cell_type": "markdown",
   "metadata": {},
   "source": [
    "#####   - Problem: Write a program that | \n",
    "#####   - asks for the day of the week  (1-7) ? , \n",
    "#####   - where:"
   ]
  },
  {
   "cell_type": "markdown",
   "metadata": {},
   "source": [
    "######       = 1 is Monday and\n",
    "######       = 7 is Sunday and \n",
    "######       = prints whether it is a weekday or the weekend"
   ]
  },
  {
   "cell_type": "code",
   "execution_count": 6,
   "metadata": {},
   "outputs": [
    {
     "name": "stdout",
     "output_type": "stream",
     "text": [
      " Enter your is 6\n",
      "It's the weekend.\n"
     ]
    }
   ],
   "source": [
    "day = int(input(\"Enter the day of the week (1-7, where 1 is Monday and 7 is Sunday): \"))\n",
    "print(\" Enter your is\" , day)\n",
    "if 1 <= day <= 5:\n",
    "    print(\"It's a weekday.\")\n",
    "elif day == 6 or day == 7:\n",
    "    print(\"It's the weekend.\")\n",
    "else:\n",
    "    print(\"Invalid input. Please enter a number between 1 and 7.\")"
   ]
  },
  {
   "cell_type": "markdown",
   "metadata": {},
   "source": [
    "#### Exercise 7: Modulus Operator"
   ]
  },
  {
   "cell_type": "markdown",
   "metadata": {},
   "source": [
    "#####   - Problem: Write a program that |\n",
    "#####    - takes a number as input ? and \n",
    "#####    - prints whether it is:"
   ]
  },
  {
   "cell_type": "markdown",
   "metadata": {},
   "source": [
    "######        = odd or\n",
    "######       = even"
   ]
  },
  {
   "cell_type": "code",
   "execution_count": 7,
   "metadata": {},
   "outputs": [
    {
     "name": "stdout",
     "output_type": "stream",
     "text": [
      " Enter your Number is 18\n",
      "The number is even.\n"
     ]
    }
   ],
   "source": [
    "number = int(input(\"Enter a number: \"))\n",
    "print(\" Enter your Number is\" , number)\n",
    "\n",
    "if number % 2 == 0:\n",
    "    print(\"The number is even.\")\n",
    "else:\n",
    "    print(\"The number is odd.\")"
   ]
  },
  {
   "cell_type": "markdown",
   "metadata": {},
   "source": [
    "#### Exercise 8: Multiple Conditions"
   ]
  },
  {
   "cell_type": "markdown",
   "metadata": {},
   "source": [
    "#####   - Problem: Write a program that |\n",
    "#####   - asks the user to input a year ? and \n",
    "#####   - determines whether it is"
   ]
  },
  {
   "cell_type": "markdown",
   "metadata": {},
   "source": [
    "######       = a leap year \n",
    "######       = or not"
   ]
  },
  {
   "cell_type": "code",
   "execution_count": 8,
   "metadata": {},
   "outputs": [
    {
     "name": "stdout",
     "output_type": "stream",
     "text": [
      " Enter your year is  2014\n",
      "2014 is not a leap year.\n"
     ]
    }
   ],
   "source": [
    "year = int(input(\"Enter a year: \"))\n",
    "print(\" Enter your year is \", year)\n",
    "if (year % 4 == 0 and year % 100 != 0) or (year % 400 == 0):\n",
    "    print(f\"{year} is a leap year.\")\n",
    "else:\n",
    "    print(f\"{year} is not a leap year.\")"
   ]
  },
  {
   "cell_type": "markdown",
   "metadata": {},
   "source": [
    "#### Exercise 9: Combining Input and Conditions"
   ]
  },
  {
   "cell_type": "markdown",
   "metadata": {},
   "source": [
    "#####    - Problem: Write a program that |\n",
    "#####    - asks the user to input a number ? and \n",
    "#####    - then prints whether the number is:"
   ]
  },
  {
   "cell_type": "markdown",
   "metadata": {},
   "source": [
    "######        = positive, \n",
    "######        =negative, \n",
    "######        =or zero"
   ]
  },
  {
   "cell_type": "code",
   "execution_count": 9,
   "metadata": {},
   "outputs": [
    {
     "name": "stdout",
     "output_type": "stream",
     "text": [
      " Enter your Number is  7.0\n",
      "The number is positive.\n"
     ]
    }
   ],
   "source": [
    "number = float(input(\"Enter a number: \"))\n",
    "print(\" Enter your Number is \" , number)\n",
    "if number > 0:\n",
    "    print(\"The number is positive.\")\n",
    "elif number < 0:\n",
    "    print(\"The number is negative.\")\n",
    "else:\n",
    "    print(\"The number is zero.\")\n"
   ]
  },
  {
   "cell_type": "markdown",
   "metadata": {},
   "source": [
    "#### Exercise 10: Basic Calculator"
   ]
  },
  {
   "cell_type": "markdown",
   "metadata": {},
   "source": [
    "#####   - Problem: Write a program that |\n",
    "#####   - takes two numbers ? and\n",
    "#####   - an operator (+, -, *, /) as input: and "
   ]
  },
  {
   "cell_type": "markdown",
   "metadata": {},
   "source": [
    "#####        ! performs the corresponding operation\n",
    "######           +\n",
    "######           -\n",
    "######           *\n",
    "######           /"
   ]
  },
  {
   "cell_type": "code",
   "execution_count": 10,
   "metadata": {},
   "outputs": [
    {
     "name": "stdout",
     "output_type": "stream",
     "text": [
      "Enter first Number is  7.0\n",
      "Enter second Number is  8.0\n",
      "Enter operator  is  *\n",
      "Result * : 56.0\n"
     ]
    }
   ],
   "source": [
    "num1 = float(input(\"Enter the first number: \"))\n",
    "num2 = float(input(\"Enter the second number: \"))\n",
    "operator = input(\"Enter an operator (+, -, *, /): \")\n",
    "print(\"Enter first Number is \", num1)\n",
    "print(\"Enter second Number is \", num2)\n",
    "print(\"Enter operator  is \", operator)\n",
    "\n",
    "if operator == '+':\n",
    "    print(f\"Result + : {num1 + num2}\")\n",
    "elif operator == '-':\n",
    "    print(f\"Result - : {num1 - num2}\")\n",
    "elif operator == '*':\n",
    "    print(f\"Result * : {num1 * num2}\")\n",
    "elif operator == '/':\n",
    "    if num2 != 0:\n",
    "        print(f\"Result / : {num1 / num2}\")\n",
    "    else:\n",
    "        print(\"Cannot divide by zero\")\n",
    "else:\n",
    "    print(\"Invalid operator\")\n",
    "\n"
   ]
  }
 ],
 "metadata": {
  "kernelspec": {
   "display_name": "Python 3 (ipykernel)",
   "language": "python",
   "name": "python3"
  },
  "language_info": {
   "codemirror_mode": {
    "name": "ipython",
    "version": 3
   },
   "file_extension": ".py",
   "mimetype": "text/x-python",
   "name": "python",
   "nbconvert_exporter": "python",
   "pygments_lexer": "ipython3",
   "version": "3.12.4"
  }
 },
 "nbformat": 4,
 "nbformat_minor": 4
}
