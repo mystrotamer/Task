{
 "cells": [
  {
   "cell_type": "code",
   "execution_count": 1,
   "metadata": {},
   "outputs": [
    {
     "name": "stdin",
     "output_type": "stream",
     "text": [
      "Enter your age:  25\n"
     ]
    },
    {
     "name": "stdout",
     "output_type": "stream",
     "text": [
      "You are an adult\n"
     ]
    }
   ],
   "source": [
    "#\"\"\" \n",
    "#Exercise 1: Basic Conditions\n",
    "#   - Problem: Write a program that | asks the user to input their age ? and\n",
    "#   - then prints whether they are :\n",
    "#       = a minor (under 18),\n",
    "#       = an adult (18-64),\n",
    "#       = or a senior (65 and older)\n",
    "# \"\"\"\n",
    "\n",
    "\n",
    "age = int(input(\"Enter your age: \"))\n",
    "if age < 18:\n",
    "    print(\"You are a minor\")\n",
    "elif 18 <= age <= 64:\n",
    "    print(\"You are an adult\")\n",
    "else:\n",
    "    print(\"You are a senior\")\n",
    "\n",
    "\n"
   ]
  },
  {
   "cell_type": "code",
   "execution_count": 2,
   "metadata": {},
   "outputs": [
    {
     "name": "stdin",
     "output_type": "stream",
     "text": [
      "Enter the first number:  15\n",
      "Enter the second number:  20\n"
     ]
    },
    {
     "name": "stdout",
     "output_type": "stream",
     "text": [
      "15.0 is less than 20.0\n"
     ]
    }
   ],
   "source": [
    "#\"\"\"\n",
    "#Exercise 2: Comparison Operators\n",
    "#   - Problem: Write a program that | takes two numbers as input from the user ? and\n",
    "#   - prints which one :\n",
    "#       = is greater \n",
    "#       = or if they are equal\n",
    "# \"\"\"\n",
    "\n",
    "number1 = float(input(\"Enter the first number: \"))\n",
    "number2 = float(input(\"Enter the second number: \"))\n",
    "\n",
    "if number1 > number2:\n",
    "    print(f\"{number1} is greater than {number2}\")\n",
    "elif number1 < number2:\n",
    "    print(f\"{number1} is less than {number2}\")\n",
    "else:\n",
    "    print(\"Both numbers are equal\")"
   ]
  },
  {
   "cell_type": "code",
   "execution_count": 3,
   "metadata": {},
   "outputs": [
    {
     "name": "stdin",
     "output_type": "stream",
     "text": [
      "Enter a number:  15\n"
     ]
    },
    {
     "name": "stdout",
     "output_type": "stream",
     "text": [
      "The number does not meet all the conditions\n"
     ]
    }
   ],
   "source": [
    "#\"\"\" \n",
    "#Exercise 3: Logical Operators\n",
    "#   - Problem: Write a program that | checks if a number input by the user ? \n",
    "#       = is positive,\n",
    "#       = even, and \n",
    "#       = greater than 10\n",
    "#\"\"\"\n",
    "\n",
    "# Exercise 3: Logical Operators\n",
    "number = float(input(\"Enter a number: \"))\n",
    "\n",
    "if number > 0 and number % 2 == 0 and number > 10:\n",
    "    print(\"The number is positive, even, and greater than 10\")\n",
    "else:\n",
    "    print(\"The number does not meet all the conditions\")\n"
   ]
  },
  {
   "cell_type": "code",
   "execution_count": 4,
   "metadata": {},
   "outputs": [
    {
     "name": "stdin",
     "output_type": "stream",
     "text": [
      "Enter your test score:  55\n"
     ]
    },
    {
     "name": "stdout",
     "output_type": "stream",
     "text": [
      "Grade: F\n"
     ]
    }
   ],
   "source": [
    "#\"\"\"\n",
    "#Exercise 4: Nested Conditions\n",
    "#   - Problem: Write a program that | asks for the user's score on a test ? and  \n",
    "#   - prints the grade:\n",
    "#       'A' = (90-100)\n",
    "#       'B' = (80-89)\n",
    "#       'C' = (70-79)\n",
    "#       'D' = (60-69) or\n",
    "#       'F' = (below 60)\n",
    "#\"\"\"\n",
    "\n",
    "\n",
    "score = float(input(\"Enter your test score: \"))\n",
    "\n",
    "if 90 <= score <= 100:\n",
    "    print(\"Grade: A\")\n",
    "elif 80 <= score < 90:\n",
    "    print(\"Grade: B\")\n",
    "elif 70 <= score < 80:\n",
    "    print(\"Grade: C\")\n",
    "elif 60 <= score < 70:\n",
    "    print(\"Grade: D\")\n",
    "else:\n",
    "    print(\"Grade: F\")\n"
   ]
  },
  {
   "cell_type": "code",
   "execution_count": 5,
   "metadata": {},
   "outputs": [
    {
     "name": "stdin",
     "output_type": "stream",
     "text": [
      "Enter the first number:  10\n",
      "Enter the second number:  5\n"
     ]
    },
    {
     "name": "stdout",
     "output_type": "stream",
     "text": [
      "The result of the addition: 15.0\n",
      "Subtraction result: 5.0\n",
      "Product of multiplication: 50.0\n",
      "Quotient: 2.0\n"
     ]
    }
   ],
   "source": [
    "#\"\"\"\n",
    "#Exercise 5: Arithmetic Operators\n",
    "#   - Problem: Write a program that | asks the user to input two numbers ? and \n",
    "#   - then prints the:\n",
    "#       = sum, \n",
    "#       = difference,\n",
    "#       = product, and\n",
    "#       = quotient of those numbers\n",
    "# \"\"\"\n",
    "\n",
    "\n",
    "num1 = float(input(\"Enter the first number: \"))\n",
    "num2 = float(input(\"Enter the second number: \"))\n",
    "\n",
    "print(f\"The result of the addition: {num1 + num2}\")\n",
    "print(f\"Subtraction result: {num1 - num2}\")\n",
    "print(f\"Product of multiplication: {num1 * num2}\")\n",
    "if num2 != 0:\n",
    "    print(f\"Quotient: {num1 / num2}\")\n",
    "else:\n",
    "    print(\"Division by zero is not accepted\")\n"
   ]
  },
  {
   "cell_type": "code",
   "execution_count": 6,
   "metadata": {},
   "outputs": [
    {
     "name": "stdin",
     "output_type": "stream",
     "text": [
      "Enter the day of the week (1-7, where 1 is Monday and 7 is Sunday):  8\n"
     ]
    },
    {
     "name": "stdout",
     "output_type": "stream",
     "text": [
      "Invalid input. Please enter a number between 1 and 7.\n"
     ]
    }
   ],
   "source": [
    "#\"\"\" \n",
    "#Exercise 6: Using elif\n",
    "#   - Problem: Write a program that | asks for the day of the week  (1-7 ? , \n",
    "#   - where:\n",
    "#       = 1 is Monday and\n",
    "#       = 7 is Sunday) and \n",
    "#       = prints whether it is a weekday or the weekend\n",
    "# \"\"\"\n",
    "\n",
    "\n",
    "day = int(input(\"Enter the day of the week (1-7, where 1 is Monday and 7 is Sunday): \"))\n",
    "\n",
    "if 1 <= day <= 5:\n",
    "    print(\"It's a weekday.\")\n",
    "elif day == 6 or day == 7:\n",
    "    print(\"It's the weekend.\")\n",
    "else:\n",
    "    print(\"Invalid input. Please enter a number between 1 and 7.\")\n"
   ]
  },
  {
   "cell_type": "code",
   "execution_count": 7,
   "metadata": {},
   "outputs": [
    {
     "name": "stdin",
     "output_type": "stream",
     "text": [
      "Enter a number:  15\n"
     ]
    },
    {
     "name": "stdout",
     "output_type": "stream",
     "text": [
      "The number is odd.\n"
     ]
    }
   ],
   "source": [
    "#\"\"\" \n",
    "#Exercise 7: Modulus Operator\n",
    "#    - Problem: Write a program that | takes a number as input ? and \n",
    "#    - prints whether it is:\n",
    "#        = odd or\n",
    "#        = even\n",
    "#\"\"\"\n",
    "\n",
    "\n",
    "number = int(input(\"Enter a number: \"))\n",
    "\n",
    "if number % 2 == 0:\n",
    "    print(\"The number is even.\")\n",
    "else:\n",
    "    print(\"The number is odd.\")\n"
   ]
  },
  {
   "cell_type": "code",
   "execution_count": 8,
   "metadata": {},
   "outputs": [
    {
     "name": "stdin",
     "output_type": "stream",
     "text": [
      "Enter a year:  504\n"
     ]
    },
    {
     "name": "stdout",
     "output_type": "stream",
     "text": [
      "504 is a leap year.\n"
     ]
    }
   ],
   "source": [
    "#\"\"\" \n",
    "#Exercise 8: Multiple Conditions\n",
    "#   - Problem: Write a program that | asks the user to input a year ? and \n",
    "#   - determines whether it is\n",
    "#       = a leap year \n",
    "#       = or not\n",
    "#\"\"\"\n",
    "\n",
    "\n",
    "year = int(input(\"Enter a year: \"))\n",
    "\n",
    "if (year % 4 == 0 and year % 100 != 0) or (year % 400 == 0):\n",
    "    print(f\"{year} is a leap year.\")\n",
    "else:\n",
    "    print(f\"{year} is not a leap year.\")\n"
   ]
  },
  {
   "cell_type": "code",
   "execution_count": 9,
   "metadata": {},
   "outputs": [
    {
     "name": "stdin",
     "output_type": "stream",
     "text": [
      "Enter a number:  -5\n"
     ]
    },
    {
     "name": "stdout",
     "output_type": "stream",
     "text": [
      "The number is negative.\n"
     ]
    }
   ],
   "source": [
    "#\"\"\"\n",
    "#Exercise 9: Combining Input and Conditions\n",
    "#    - Problem: Write a program that | asks the user to input a number ? and \n",
    "#    - then prints whether the number is:\n",
    "#        = positive, \n",
    "#        =negative, \n",
    "#        =or zero\n",
    "#\"\"\"\n",
    "\n",
    "\n",
    "number = float(input(\"Enter a number: \"))\n",
    "\n",
    "if number > 0:\n",
    "    print(\"The number is positive.\")\n",
    "elif number < 0:\n",
    "    print(\"The number is negative.\")\n",
    "else:\n",
    "    print(\"The number is zero.\")\n"
   ]
  },
  {
   "cell_type": "code",
   "execution_count": 10,
   "metadata": {},
   "outputs": [
    {
     "name": "stdin",
     "output_type": "stream",
     "text": [
      "Enter the first number:  5\n",
      "Enter the second number:  7\n",
      "Enter an operator (+, -, *, /):  y\n"
     ]
    },
    {
     "name": "stdout",
     "output_type": "stream",
     "text": [
      "Invalid operator\n"
     ]
    }
   ],
   "source": [
    "#\"\"\" \n",
    "#Exercise 10: Basic Calculator\n",
    "#    - Problem: Write a program that | takes two numbers ? and\n",
    "#    - an operator (+, -, *, /) as input: and \n",
    "#        ! performs the corresponding operation\n",
    "#           +\n",
    "#           -\n",
    "#           *\n",
    "#           /\n",
    "#\"\"\"\n",
    "\n",
    "\n",
    "# Exercise 10: Basic Calculator\n",
    "num1 = float(input(\"Enter the first number: \"))\n",
    "num2 = float(input(\"Enter the second number: \"))\n",
    "operator = input(\"Enter an operator (+, -, *, /): \")\n",
    "\n",
    "if operator == '+':\n",
    "    print(f\"Result + : {num1 + num2}\")\n",
    "elif operator == '-':\n",
    "    print(f\"Result - : {num1 - num2}\")\n",
    "elif operator == '*':\n",
    "    print(f\"Result * : {num1 * num2}\")\n",
    "elif operator == '/':\n",
    "    if num2 != 0:\n",
    "        print(f\"Result / : {num1 / num2}\")\n",
    "    else:\n",
    "        print(\"Cannot divide by zero\")\n",
    "else:\n",
    "    print(\"Invalid operator\")\n",
    "\n"
   ]
  },
  {
   "cell_type": "code",
   "execution_count": null,
   "metadata": {},
   "outputs": [],
   "source": []
  }
 ],
 "metadata": {
  "kernelspec": {
   "display_name": "Python 3 (ipykernel)",
   "language": "python",
   "name": "python3"
  },
  "language_info": {
   "codemirror_mode": {
    "name": "ipython",
    "version": 3
   },
   "file_extension": ".py",
   "mimetype": "text/x-python",
   "name": "python",
   "nbconvert_exporter": "python",
   "pygments_lexer": "ipython3",
   "version": "3.12.4"
  }
 },
 "nbformat": 4,
 "nbformat_minor": 4
}
