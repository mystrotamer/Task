{
 "cells": [
  {
   "cell_type": "markdown",
   "metadata": {},
   "source": [
    "## Py-4"
   ]
  },
  {
   "cell_type": "markdown",
   "metadata": {},
   "source": [
    "# Task2: Create a Dog Class"
   ]
  },
  {
   "cell_type": "markdown",
   "metadata": {},
   "source": [
    "#### ○ Create a class named Dog.\n",
    "#### ○ The class should have the following attributes:"
   ]
  },
  {
   "cell_type": "markdown",
   "metadata": {},
   "source": [
    "###### name and age"
   ]
  },
  {
   "cell_type": "code",
   "execution_count": 1,
   "metadata": {},
   "outputs": [],
   "source": [
    "# 1. Define the Class:\n",
    "\n",
    "class Dog:\n",
    "\n",
    "    # 2. Constructor Method:\n",
    "    \n",
    "    \"\"\"Define an __init__ method to initialize these attributes\"\"\"\n",
    "    def __init__(self, name, age):\n",
    "        self.name = name\n",
    "        self.age = age\n",
    "    \n",
    "    # 3. Methods:\n",
    "\n",
    "    \"\"\"Define a method named 'sit'\n",
    "    that prints a message indicating\n",
    "    the dog is sitting.\n",
    "    \"\"\"\n",
    "    def sit(self):\n",
    "        print(f\"{self.name} is now sitting.\")\n",
    "    \n",
    "    \"\"\" Define a method named 'roll_over' \n",
    "    that prints a message indicating \n",
    "    the dog is rolling over.\n",
    "    \"\"\"\n",
    "    def roll_over(self):\n",
    "        print(f\"{self.name} rolled over.\")"
   ]
  },
  {
   "cell_type": "code",
   "execution_count": 2,
   "metadata": {},
   "outputs": [
    {
     "name": "stdout",
     "output_type": "stream",
     "text": [
      "My dog's name is wo and he is 1 years old.\n",
      "wo is now sitting.\n",
      "wo rolled over.\n"
     ]
    }
   ],
   "source": [
    "# 1\n",
    "Edog = Dog(\"wo\", 1)\n",
    "print(f\"My dog's name is {Edog.name} and he is {Edog.age} years old.\")\n",
    "# 2\n",
    "Edog.sit()\n",
    "Edog.roll_over()"
   ]
  }
 ],
 "metadata": {
  "kernelspec": {
   "display_name": "Python 3 (ipykernel)",
   "language": "python",
   "name": "python3"
  },
  "language_info": {
   "codemirror_mode": {
    "name": "ipython",
    "version": 3
   },
   "file_extension": ".py",
   "mimetype": "text/x-python",
   "name": "python",
   "nbconvert_exporter": "python",
   "pygments_lexer": "ipython3",
   "version": "3.12.4"
  }
 },
 "nbformat": 4,
 "nbformat_minor": 4
}
