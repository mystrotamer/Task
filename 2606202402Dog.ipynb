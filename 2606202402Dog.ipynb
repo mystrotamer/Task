{
 "cells": [
  {
   "cell_type": "code",
   "execution_count": 17,
   "metadata": {},
   "outputs": [],
   "source": [
    "class Dog():\n",
    "    name = input(' Enter You Name :')\n",
    "    age = input(' Enter You Age :')\n",
    "\n",
    "# Constructor Method    \n",
    "    def __init__(self,\n",
    "                 name,\n",
    "                 age\n",
    "                 ):\n",
    "        self.name = name\n",
    "        self.age = age\n",
    "\n",
    "\n",
    "# Methods..\n",
    "# M1        \n",
    "    def sit(self):\n",
    "        pass\n",
    "# M2    \n",
    "    def roll_over(self):\n",
    "        pass\n",
    "\n",
    "# call\n",
    "\n",
    "    \n",
    "# Executive"
   ]
  },
  {
   "cell_type": "code",
   "execution_count": null,
   "metadata": {},
   "outputs": [],
   "source": []
  }
 ],
 "metadata": {
  "kernelspec": {
   "display_name": "Python 3 (ipykernel)",
   "language": "python",
   "name": "python3"
  },
  "language_info": {
   "codemirror_mode": {
    "name": "ipython",
    "version": 3
   },
   "file_extension": ".py",
   "mimetype": "text/x-python",
   "name": "python",
   "nbconvert_exporter": "python",
   "pygments_lexer": "ipython3",
   "version": "3.12.3"
  }
 },
 "nbformat": 4,
 "nbformat_minor": 4
}
