{
 "cells": [
  {
   "cell_type": "markdown",
   "metadata": {},
   "source": [
    "##### Zoo Management System"
   ]
  },
  {
   "cell_type": "markdown",
   "metadata": {},
   "source": [
    "###### Method"
   ]
  },
  {
   "cell_type": "markdown",
   "metadata": {},
   "source": [
    "##### 1. Create a base class Animal:\n"
   ]
  },
  {
   "cell_type": "code",
   "execution_count": 1,
   "metadata": {},
   "outputs": [],
   "source": [
    "class Animal:\n",
    "    def __init__(self,name, age, species):\n",
    "        self.name = name\n",
    "        self.age = age\n",
    "        self.spescies = species\n",
    "    \n",
    "#    def make_sound(self):\n",
    "#        return \"Some generic animal sound\"\n",
    "        "
   ]
  },
  {
   "cell_type": "markdown",
   "metadata": {},
   "source": [
    "### 2. Create subclasses for specific animals:\n"
   ]
  },
  {
   "cell_type": "markdown",
   "metadata": {},
   "source": [
    "### Lion"
   ]
  },
  {
   "cell_type": "markdown",
   "metadata": {},
   "source": [
    " ##### Lion could have an attribute"
   ]
  },
  {
   "cell_type": "markdown",
   "metadata": {},
   "source": [
    "###### - mane_size\n",
    "###### - hunt"
   ]
  },
  {
   "cell_type": "code",
   "execution_count": 2,
   "metadata": {},
   "outputs": [],
   "source": [
    "class Lion(Animal):\n",
    "    def make_sound(self):\n",
    "        print(f'{self.name}     is Roar')\n",
    "    def mane_size(self):\n",
    "        print(f\"{self.name} is mane_size\")\n",
    "    def hunt(self):\n",
    "        print(f\"{self.name} is hunting\")"
   ]
  },
  {
   "cell_type": "markdown",
   "metadata": {},
   "source": [
    "### Elephant"
   ]
  },
  {
   "cell_type": "markdown",
   "metadata": {},
   "source": [
    " #### Elephant could have an attribute"
   ]
  },
  {
   "cell_type": "markdown",
   "metadata": {},
   "source": [
    "##### - trunk_length\n",
    "##### - swing_trunk"
   ]
  },
  {
   "cell_type": "code",
   "execution_count": 3,
   "metadata": {},
   "outputs": [],
   "source": [
    "class Elephant(Animal):\n",
    "    def make_sound(self):\n",
    "        print(f'{self.name}  is trumpeting')\n",
    "    def trunk_length(self, leng):\n",
    "        print(f\"{self.name} trunk {leng} meters long\")\n",
    "    def swing_trunk(self):\n",
    "        print(f\"{self.name} is swinging its trunk\")"
   ]
  },
  {
   "cell_type": "markdown",
   "metadata": {},
   "source": [
    "### Monkey"
   ]
  },
  {
   "cell_type": "markdown",
   "metadata": {},
   "source": [
    "#### Monkey could have an attribute"
   ]
  },
  {
   "cell_type": "markdown",
   "metadata": {},
   "source": [
    "##### - tail_length\n",
    "##### - swing"
   ]
  },
  {
   "cell_type": "code",
   "execution_count": 4,
   "metadata": {},
   "outputs": [],
   "source": [
    "class Monkey(Animal):\n",
    "    def make_sound(self):\n",
    "        print(f'{self.name}  is chatter')\n",
    "    def tail_length(self):\n",
    "        print(f\"{self.name} is does not have a specified tail length\")\n",
    "    def swing(self):\n",
    "        print(f\"{self.name} is swinging from branch to branch \")"
   ]
  },
  {
   "cell_type": "markdown",
   "metadata": {},
   "source": [
    "### 3. Test the classes:\n"
   ]
  },
  {
   "cell_type": "markdown",
   "metadata": {},
   "source": [
    "###### 1"
   ]
  },
  {
   "cell_type": "code",
   "execution_count": 5,
   "metadata": {},
   "outputs": [
    {
     "name": "stdout",
     "output_type": "stream",
     "text": [
      "Lion A     is Roar\n",
      "Lion A is hunting\n"
     ]
    }
   ],
   "source": [
    "lion = Lion(\"Lion A\", \"age\", \"species\")\n",
    "lion.make_sound()         \n",
    "lion.hunt() "
   ]
  },
  {
   "cell_type": "markdown",
   "metadata": {},
   "source": [
    "###### 2"
   ]
  },
  {
   "cell_type": "code",
   "execution_count": 6,
   "metadata": {},
   "outputs": [
    {
     "name": "stdout",
     "output_type": "stream",
     "text": [
      "Elephant A  is trumpeting\n",
      "Elephant A trunk 2.5 meters long\n",
      "Elephant A is swinging its trunk\n"
     ]
    }
   ],
   "source": [
    "elephant = Elephant(\"Elephant A\", \"age\", \"species\")\n",
    "elephant.make_sound()\n",
    "elephant.trunk_length(2.5)\n",
    "elephant.swing_trunk()"
   ]
  },
  {
   "cell_type": "markdown",
   "metadata": {},
   "source": [
    "###### 3"
   ]
  },
  {
   "cell_type": "code",
   "execution_count": 7,
   "metadata": {},
   "outputs": [
    {
     "name": "stdout",
     "output_type": "stream",
     "text": [
      "Monkey A  is chatter\n",
      "Monkey A is swinging from branch to branch \n"
     ]
    }
   ],
   "source": [
    "monkey = Monkey(\"Monkey A\", \"age\", \"species\")\n",
    "monkey.make_sound()\n",
    "monkey.swing()"
   ]
  }
 ],
 "metadata": {
  "kernelspec": {
   "display_name": "Python 3 (ipykernel)",
   "language": "python",
   "name": "python3"
  },
  "language_info": {
   "codemirror_mode": {
    "name": "ipython",
    "version": 3
   },
   "file_extension": ".py",
   "mimetype": "text/x-python",
   "name": "python",
   "nbconvert_exporter": "python",
   "pygments_lexer": "ipython3",
   "version": "3.12.4"
  }
 },
 "nbformat": 4,
 "nbformat_minor": 4
}
